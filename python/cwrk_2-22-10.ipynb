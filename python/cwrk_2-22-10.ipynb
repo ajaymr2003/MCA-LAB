{
 "cells": [
  {
   "cell_type": "code",
   "execution_count": 4,
   "id": "a5c3f54b",
   "metadata": {},
   "outputs": [
    {
     "name": "stdout",
     "output_type": "stream",
     "text": [
      "Enter first integer :520\n",
      "Enter second integer :30\n",
      "520 is greater\n"
     ]
    }
   ],
   "source": [
    "a=input('Enter first integer :')\n",
    "b=input('Enter second integer :')\n",
    "if (a>b):\n",
    "    print(f\"{a} is greater\")\n",
    "else:\n",
    "    print(f\"{b} is greater\")"
   ]
  },
  {
   "cell_type": "code",
   "execution_count": 8,
   "id": "dc6011f5",
   "metadata": {},
   "outputs": [
    {
     "name": "stdout",
     "output_type": "stream",
     "text": [
      "Enter a number :-155\n",
      "Negative number\n"
     ]
    }
   ],
   "source": [
    "a=int(input('Enter a number :'))\n",
    "if (a>0):\n",
    "    print('Positive number')\n",
    "elif (a<0):\n",
    "    print('Negative number')\n",
    "else :\n",
    "    print('Number is 0')"
   ]
  },
  {
   "cell_type": "code",
   "execution_count": 17,
   "id": "da083e2c",
   "metadata": {},
   "outputs": [
    {
     "name": "stdout",
     "output_type": "stream",
     "text": [
      "Enter the length of the rectangle :5\n",
      "Enter the bredth of the rectangle :5\n",
      "This is a Square\n"
     ]
    }
   ],
   "source": [
    "a=int(input('Enter the length of the rectangle :'))\n",
    "b=int(input('Enter the bredth of the rectangle :'))\n",
    "if (a==b):\n",
    "          print(\"This is a Square\")\n",
    "else :\n",
    "        print(\"This is a Rectangle\")"
   ]
  },
  {
   "cell_type": "code",
   "execution_count": 25,
   "id": "c089d364",
   "metadata": {},
   "outputs": [
    {
     "name": "stdout",
     "output_type": "stream",
     "text": [
      "Enter the first number :50\n",
      "Enter the second number :100\n",
      "The product of 50 and 100 = 5000\n",
      "The sum of 50 and 100 = 150\n"
     ]
    }
   ],
   "source": [
    "a=int(input('Enter the first number :'))\n",
    "b=int(input('Enter the second number :'))\n",
    "c=a*b\n",
    "d=a+b\n",
    "print(f'The product of {a} and {b} = {c}')\n",
    "if (c>1000):\n",
    "    print(f\"The sum of {a} and {b} = {d}\")"
   ]
  },
  {
   "cell_type": "code",
   "execution_count": 27,
   "id": "2ec75c4b",
   "metadata": {},
   "outputs": [
    {
     "name": "stdout",
     "output_type": "stream",
     "text": [
      "Enter the number of classes held :50\n",
      "Enter the number of classes attended :45\n",
      "You can attend exam\n"
     ]
    }
   ],
   "source": [
    "a=int(input('Enter the number of classes held :'))\n",
    "b=int(input('Enter the number of classes attended :'))\n",
    "c=(b/a)*100\n",
    "if (c<75):\n",
    "    print('You dont have enough attendance for exam')\n",
    "else:\n",
    "    print('You can attend exam')"
   ]
  },
  {
   "cell_type": "code",
   "execution_count": 30,
   "id": "11363b6a",
   "metadata": {},
   "outputs": [
    {
     "name": "stdout",
     "output_type": "stream",
     "text": [
      "Enter1,2,2,1\n",
      "True\n"
     ]
    }
   ],
   "source": [
    "n=list(map(int,input('Enter').split(\",\")))\n",
    "if n[0]==n[-1]:\n",
    "    print(\"True\")\n",
    "else:\n",
    "    print('False')"
   ]
  },
  {
   "cell_type": "code",
   "execution_count": null,
   "id": "e984d81d",
   "metadata": {},
   "outputs": [],
   "source": []
  }
 ],
 "metadata": {
  "kernelspec": {
   "display_name": "Python 3 (ipykernel)",
   "language": "python",
   "name": "python3"
  },
  "language_info": {
   "codemirror_mode": {
    "name": "ipython",
    "version": 3
   },
   "file_extension": ".py",
   "mimetype": "text/x-python",
   "name": "python",
   "nbconvert_exporter": "python",
   "pygments_lexer": "ipython3",
   "version": "3.11.5"
  }
 },
 "nbformat": 4,
 "nbformat_minor": 5
}
