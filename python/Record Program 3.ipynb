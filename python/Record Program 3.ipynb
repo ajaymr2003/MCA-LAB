{
 "cells": [
  {
   "cell_type": "code",
   "execution_count": 1,
   "id": "3c24c7d4",
   "metadata": {},
   "outputs": [
    {
     "name": "stdout",
     "output_type": "stream",
     "text": [
      "Enter a word :jar\n",
      "changed word : raj\n"
     ]
    }
   ],
   "source": [
    "a=input('Enter a word :')\n",
    "b=a[-1]+a[1:-1] +a[0]\n",
    "print('changed word :',b)"
   ]
  },
  {
   "cell_type": "code",
   "execution_count": 8,
   "id": "f0735983",
   "metadata": {},
   "outputs": [
    {
     "name": "stdout",
     "output_type": "stream",
     "text": [
      "Enter 1st string: ajay\n",
      "Enter 2nd string :bob\n",
      "swaped sting : boay ajb\n"
     ]
    }
   ],
   "source": [
    "s1=input(\"Enter 1st string: \")\n",
    "s2=input(\"Enter 2nd string :\")\n",
    "print ('swaped sting :',s2[0:2]+s1[2:]+\" \"+s1[0:2]+s2[2:])"
   ]
  },
  {
   "cell_type": "code",
   "execution_count": 1,
   "id": "f29a9fba",
   "metadata": {},
   "outputs": [
    {
     "name": "stdout",
     "output_type": "stream",
     "text": [
      "enter a string :abhay\n",
      "abh$y\n"
     ]
    }
   ],
   "source": [
    "s=input(\"enter a string :\")\n",
    "x=s[0]+s[1:].replace (s[0],\"$\")\n",
    "print(x)"
   ]
  },
  {
   "cell_type": "markdown",
   "id": "01576cf8",
   "metadata": {},
   "source": []
  },
  {
   "cell_type": "code",
   "execution_count": 1,
   "id": "107386cb",
   "metadata": {},
   "outputs": [
    {
     "name": "stdout",
     "output_type": "stream",
     "text": [
      "Enter a list of colors seperated by commas:red,blue,green\n",
      "first color : red\n",
      "last color :green\n"
     ]
    }
   ],
   "source": [
    "color=input(\"Enter a list of colors seperated by commas:\")\n",
    "clist=color.split(\",\")\n",
    "print('first color :', clist[0])\n",
    "print('last color :', clist[-1])\n"
   ]
  },
  {
   "cell_type": "code",
   "execution_count": 2,
   "id": "0cf71223",
   "metadata": {},
   "outputs": [
    {
     "name": "stdout",
     "output_type": "stream",
     "text": [
      "Enter the name of the document with extension :amr.pdf\n",
      "The File Extension is :pdf\n"
     ]
    }
   ],
   "source": [
    "a=input(\"Enter the name of the document with extension :\")\n",
    "b=a.split(\".\")\n",
    "print(\"The File Extension is :\"+ b[-1])"
   ]
  },
  {
   "cell_type": "code",
   "execution_count": 3,
   "id": "7e153802",
   "metadata": {},
   "outputs": [
    {
     "name": "stdout",
     "output_type": "stream",
     "text": [
      "Enter values to a tuple :brother\n",
      "Third element: o\n",
      "Third element from last : h\n"
     ]
    }
   ],
   "source": [
    "a=input(\"Enter values to a tuple :\")\n",
    "print (\"Third element:\",a[2])\n",
    "print (\"Third element from last :\",a[-3])"
   ]
  },
  {
   "cell_type": "code",
   "execution_count": 5,
   "id": "452a1674",
   "metadata": {},
   "outputs": [
    {
     "name": "stdout",
     "output_type": "stream",
     "text": [
      "Enter the colors in 1st list :black,blue,red\n",
      "Enter the colors in 2nd list :blue,red,white\n",
      "The colors in list 1 but not in 2: {'black'}\n"
     ]
    }
   ],
   "source": [
    "a=set(input(\"Enter the colors in 1st list :\").split(\",\"))\n",
    "b=set(input(\"Enter the colors in 2nd list :\").split(\",\"))\n",
    "print(\"The colors in list 1 but not in 2:\",a-b)"
   ]
  },
  {
   "cell_type": "code",
   "execution_count": 10,
   "id": "e8140b6a",
   "metadata": {},
   "outputs": [
    {
     "name": "stdout",
     "output_type": "stream",
     "text": [
      "Enter 3 student roll no. seperated by comma :1,3,2\n",
      "Enter 3 student name seperated by comma :amruth,ajjay,aneesa\n",
      "dict {'1': 'amruth', '3': 'ajjay', '2': 'aneesa'}\n",
      "sorted dict: {'1': 'amruth', '2': 'aneesa', '3': 'ajjay'}\n",
      "sorted dict: {'3': 'ajjay', '2': 'aneesa', '1': 'amruth'}\n"
     ]
    }
   ],
   "source": [
    "r=input('Enter 3 student roll no. seperated by comma :').split(',')\n",
    "n=input('Enter 3 student name seperated by comma :').split(',')\n",
    "d={r[0]:n[0],r[1]:n[1],r[2]:n[2]}\n",
    "print(\"dict :\",d)\n",
    "s=dict(sorted(d.items(),reverse=False))\n",
    "print(\"sorted dict:\",s)\n",
    "q=dict(sorted(d.items(),reverse=True))\n",
    "print(\"sorted dict:\",q)"
   ]
  },
  {
   "cell_type": "code",
   "execution_count": null,
   "id": "4139dc62",
   "metadata": {},
   "outputs": [
    {
     "name": "stdout",
     "output_type": "stream",
     "text": [
      "Enter 3 student name seperated by comma :ajay,amruth,aneesa\n"
     ]
    }
   ],
   "source": [
    "p=input('Enter 3 student name seperated by comma :').split(',')\n",
    "pd={1:p[0],2:p[1],3:p[2]} \n",
    "q=input('Enter 3 student name seperated by comma :').split(',')\n",
    "qd={4:q[0],5:q[1],6:q[2]}\n",
    "pd.update(qd)\n",
    "print(\"Merged\",pd)"
   ]
  },
  {
   "cell_type": "code",
   "execution_count": 7,
   "id": "dc973771",
   "metadata": {},
   "outputs": [
    {
     "name": "stdout",
     "output_type": "stream",
     "text": [
      "Even numbers from 1-25 : [2, 4, 6, 8, 10, 12, 14, 16, 18, 20, 22, 24]\n",
      "Sum of even numbers : 156\n"
     ]
    }
   ],
   "source": [
    "n=list(range(2,26,2))\n",
    "print(\"Even numbers from 1-25 :\",n)\n",
    "sum_=sum(n)\n",
    "print(\"Sum of even numbers :\",sum_)"
   ]
  },
  {
   "cell_type": "code",
   "execution_count": null,
   "id": "81a1c74b",
   "metadata": {},
   "outputs": [],
   "source": []
  }
 ],
 "metadata": {
  "kernelspec": {
   "display_name": "Python 3 (ipykernel)",
   "language": "python",
   "name": "python3"
  },
  "language_info": {
   "codemirror_mode": {
    "name": "ipython",
    "version": 3
   },
   "file_extension": ".py",
   "mimetype": "text/x-python",
   "name": "python",
   "nbconvert_exporter": "python",
   "pygments_lexer": "ipython3",
   "version": "3.11.5"
  }
 },
 "nbformat": 4,
 "nbformat_minor": 5
}
