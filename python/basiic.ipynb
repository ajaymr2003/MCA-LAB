{
 "cells": [
  {
   "cell_type": "code",
   "execution_count": 6,
   "id": "039d7657",
   "metadata": {},
   "outputs": [
    {
     "name": "stdout",
     "output_type": "stream",
     "text": [
      "Enter 5 numbers seperated by comma :1,3,4,3,5\n",
      "output [1, 3, 4, 3, 5]\n"
     ]
    }
   ],
   "source": [
    "n=input(\"Enter 5 numbers seperated by comma :\").split(',')\n",
    "q=list(map(int,n))\n",
    "print(\"output\",q)"
   ]
  },
  {
   "cell_type": "code",
   "execution_count": 7,
   "id": "5497319d",
   "metadata": {},
   "outputs": [
    {
     "name": "stdout",
     "output_type": "stream",
     "text": [
      "enter 3 colors seperated by commas:red,blue,green\n",
      "enter 3 colors seperated by commas:red,blue,yellow\n",
      "output {'green'}\n"
     ]
    }
   ],
   "source": [
    "p=set(input(\"enter 3 colors seperated by commas:\").split(\",\"))\n",
    "q=set(input(\"enter 3 colors seperated by commas:\").split(\",\"))\n",
    "c=p-q\n",
    "print(\"output\",c)"
   ]
  },
  {
   "cell_type": "code",
   "execution_count": 11,
   "id": "af91e664",
   "metadata": {},
   "outputs": [
    {
     "name": "stdout",
     "output_type": "stream",
     "text": [
      "Enter 3 student name seperated by commaa,b,c\n",
      "Enter 3 student name seperated by commad,e,f\n",
      "output {1: 'a', 2: 'b', 3: 'c', 4: 'd', 5: 'e', 6: 'f'}\n"
     ]
    }
   ],
   "source": [
    "p=input('Enter 3 student name seperated by comma').split(',')\n",
    "pd={1:p[0],2:p[1],3:p[2]}\n",
    "q=input('Enter 3 student name seperated by comma').split(',')\n",
    "qd={4:q[0],5:q[1],6:q[2]}\n",
    "pd.update(qd)\n",
    "print(\"output\",pd)"
   ]
  },
  {
   "cell_type": "code",
   "execution_count": 13,
   "id": "4fbd37ae",
   "metadata": {},
   "outputs": [
    {
     "name": "stdout",
     "output_type": "stream",
     "text": [
      "Enter 3 student roll no. seperated by comma5,1,9\n",
      "Enter 3 student name seperated by commaa,b,c\n",
      "dict {'5': 'a', '1': 'b', '9': 'c'}\n",
      "sorted dict: {'9': 'c', '5': 'a', '1': 'b'}\n"
     ]
    }
   ],
   "source": [
    "r=input('Enter 3 student roll no. seperated by comma').split(',')\n",
    "n=input('Enter 3 student name seperated by comma').split(',')\n",
    "d={r[0]:n[0],r[1]:n[1],r[2]:n[2]}\n",
    "print(\"dict\",d)\n",
    "s=dict(sorted(d.items(),reverse=True))\n",
    "print(\"sorted dict:\",s)"
   ]
  },
  {
   "cell_type": "code",
   "execution_count": null,
   "id": "b567ddc4",
   "metadata": {},
   "outputs": [],
   "source": []
  }
 ],
 "metadata": {
  "kernelspec": {
   "display_name": "Python 3 (ipykernel)",
   "language": "python",
   "name": "python3"
  },
  "language_info": {
   "codemirror_mode": {
    "name": "ipython",
    "version": 3
   },
   "file_extension": ".py",
   "mimetype": "text/x-python",
   "name": "python",
   "nbconvert_exporter": "python",
   "pygments_lexer": "ipython3",
   "version": "3.11.5"
  }
 },
 "nbformat": 4,
 "nbformat_minor": 5
}
