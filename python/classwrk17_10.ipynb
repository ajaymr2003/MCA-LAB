{
 "cells": [
  {
   "cell_type": "code",
   "execution_count": 7,
   "id": "86e396b8",
   "metadata": {},
   "outputs": [
    {
     "name": "stdout",
     "output_type": "stream",
     "text": [
      "i is greater than 15\n"
     ]
    }
   ],
   "source": [
    "i=20\n",
    "if(i<15):\n",
    "    print(\"i is less than 15\")\n",
    "    print(\"Inside if block\")\n",
    "else:\n",
    "    print(\"i is greater than 15\")"
   ]
  },
  {
   "cell_type": "code",
   "execution_count": 16,
   "id": "c695fe19",
   "metadata": {},
   "outputs": [
    {
     "name": "stdout",
     "output_type": "stream",
     "text": [
      "Enter 1st number :1\n",
      "Enter 2nd number :50\n",
      "Enter 3rd number :25\n",
      "2nd number 50 is greater\n"
     ]
    }
   ],
   "source": [
    "a=int(input(\"Enter 1st number :\"))\n",
    "b=int(input(\"Enter 2nd number :\"))\n",
    "c=int(input(\"Enter 3rd number :\"))\n",
    "if (a>b) and (a>c):\n",
    "    print(f\"1st number {a} is greater\")\n",
    "elif (b>a) and (b>c):\n",
    "    print(f\"2nd number {b} is greater\")\n",
    "else :\n",
    "    print (f\"3rd number {c} is greater\")"
   ]
  },
  {
   "cell_type": "code",
   "execution_count": 21,
   "id": "9ca7d921",
   "metadata": {},
   "outputs": [
    {
     "name": "stdout",
     "output_type": "stream",
     "text": [
      "Enter a integer :-10\n",
      "Integer is negetive\n"
     ]
    }
   ],
   "source": [
    "a=int(input('Enter a integer :'))\n",
    "if (a>0):\n",
    "    print('Integer is positive')\n",
    "elif (a==0):\n",
    "    print('Integer is 0')\n",
    "else:\n",
    "    print('Integer is negetive')"
   ]
  },
  {
   "cell_type": "code",
   "execution_count": null,
   "id": "d74bb550",
   "metadata": {},
   "outputs": [],
   "source": []
  }
 ],
 "metadata": {
  "kernelspec": {
   "display_name": "Python 3 (ipykernel)",
   "language": "python",
   "name": "python3"
  },
  "language_info": {
   "codemirror_mode": {
    "name": "ipython",
    "version": 3
   },
   "file_extension": ".py",
   "mimetype": "text/x-python",
   "name": "python",
   "nbconvert_exporter": "python",
   "pygments_lexer": "ipython3",
   "version": "3.11.5"
  }
 },
 "nbformat": 4,
 "nbformat_minor": 5
}
